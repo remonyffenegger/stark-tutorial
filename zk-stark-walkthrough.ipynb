{
 "cells": [
  {
   "cell_type": "markdown",
   "metadata": {},
   "source": [
    "# A Walk-Through of a Simple zk-STARK Proof"
   ]
  },
  {
   "attachments": {},
   "cell_type": "markdown",
   "metadata": {},
   "source": [
    "This Python Notebook accompanies the article ``A Walk-Through of a Simple zk-STARK Proof'' by Berentsen, Lenzi and Nyffenegger (2022) and implements the numerical example."
   ]
  },
  {
   "cell_type": "markdown",
   "metadata": {},
   "source": [
    "The notebook is composed of three main parts in line with the article:\n",
    "* **Definition of the problem** -- Define trace and constraints (agreement between prover and verifier)\n",
    "* **Arithmetization** -- Representing the problem as an algebraic problem\n",
    "* **Low degree testing** -- Check if the composition polynomial is of low degree "
   ]
  },
  {
   "cell_type": "code",
   "execution_count": 47,
   "metadata": {},
   "outputs": [],
   "source": [
    "#Import Packages\n",
    "import numpy as np               #version: 1.21.5\n",
    "import sympy                     #version: 1.10.1\n",
    "from sympy import poly\n",
    "from sympy.abc import x, y\n",
    "import matplotlib.pyplot as plt  #version: 3.5.1\n",
    "from merkle import MerkleTree, verify_decommitment  #The Merkle tree implementation is used from StarkWare Industries Ltd."
   ]
  },
  {
   "cell_type": "markdown",
   "metadata": {},
   "source": [
    "---------------------------------------------------------------------------------------------------------------------------------"
   ]
  },
  {
   "cell_type": "markdown",
   "metadata": {},
   "source": [
    "# 1 Definition of the Problem"
   ]
  },
  {
   "cell_type": "markdown",
   "metadata": {},
   "source": [
    "### 1.1 CI Statement, Trace and Polynomial Constraints"
   ]
  },
  {
   "cell_type": "markdown",
   "metadata": {},
   "source": [
    "**Computational Integrity Statement:** “The prover has a sequence $A$ of $N$ integers, all of which are either 0 or 1 (boolean)”  \n",
    "The statement is TRUE if all elements $A_i \\in A$  are either 0 or 1.  \n",
    "Example: $A^{true} = [1,0,1,1]$ is a true trace, $A^{false} = [2,0,1,1]$ is a false trace."
   ]
  },
  {
   "cell_type": "code",
   "execution_count": 48,
   "metadata": {},
   "outputs": [
    {
     "name": "stdout",
     "output_type": "stream",
     "text": [
      "A =  [1, 0, 1, 1]  | The trace (A) is -->  True\n"
     ]
    }
   ],
   "source": [
    "#Number of elements in the trace. Has to be power of 2 in our example. You can try 2**3,2**4,2**5 etc, but need to adjust M below.\n",
    "N = 2**2\n",
    "\n",
    "#Define the trace A, for replicability set seed to 5\n",
    "np.random.seed(5)\n",
    "A = list(np.random.randint(low = 0,high=2,size=N))\n",
    "\n",
    "assert len(A)==N, \"length of A is different from N\"     # Check that A has length specified in N\n",
    "assert (N & (N - 1)) == 0, \"N not a power of 2\" # Make sure that N is a power of 2\n",
    "print('A = ', A, ' | The trace (A) is --> ', np.isin(A, [0, 1]).all())"
   ]
  },
  {
   "cell_type": "markdown",
   "metadata": {},
   "source": [
    "Prover and verifier agree on the constraints of the problem, i.e. $A_i^2-A_i=0 \\quad \\forall  i = 0,1,...,N-1$  "
   ]
  },
  {
   "cell_type": "code",
   "execution_count": 49,
   "metadata": {},
   "outputs": [],
   "source": [
    "constraint = poly(y**2 - y)      # The only elements that are roots of these constraints are 0 and 1."
   ]
  },
  {
   "cell_type": "markdown",
   "metadata": {},
   "source": [
    "### 1.2 Finite Field"
   ]
  },
  {
   "cell_type": "markdown",
   "metadata": {},
   "source": [
    "Next we define the finite field $F$ we work with. We choose a prime field and use the modulo operator with modulo $M=17$.  "
   ]
  },
  {
   "cell_type": "code",
   "execution_count": 50,
   "metadata": {},
   "outputs": [
    {
     "name": "stdout",
     "output_type": "stream",
     "text": [
      "The Finite Field is: GF(17) = [ 0  1  2  3  4  5  6  7  8  9 10 11 12 13 14 15 16]\n"
     ]
    }
   ],
   "source": [
    "M = 2**4+1                                              #Can alternatively choose 2**8+1, 2**16+1 etc\n",
    "F = sympy.FiniteField(M)\n",
    "\n",
    "def toInt(a):                                           #We define this function to be able to calculate integere values from the finite field expressions\n",
    "    return int(sympy.FiniteField.to_sympy(0,a) % M)     #and to always get the positive integer realization and not the negative one.\n",
    "assert sympy.isprime(M), f\"M not a prime\"               #Assert that M is a prime number\n",
    "assert (M-1)%N == 0, f\"N must be a divisor of (M-1)\"    #N must be a divisor of (M-1) such that a subgroup exists\n",
    "print('The Finite Field is:', F, '=', np.arange(0,M))"
   ]
  },
  {
   "cell_type": "markdown",
   "metadata": {},
   "source": [
    "Furthermore, we calculate the multiplicative inverses $b = a^{-1}$ of the field elements $a\\in F$ (where  $aa^{-1} = 1$) and store them for further use.  \n",
    "We find them by calculating $a^{-1} = a^{M-2}$. (There is no multiplicative inverse for $0$ since division by $0$ is not possible)."
   ]
  },
  {
   "cell_type": "code",
   "execution_count": 51,
   "metadata": {},
   "outputs": [
    {
     "name": "stdout",
     "output_type": "stream",
     "text": [
      "The multiplicative inverses of F(M) are:  [1, 9, 6, 13, 7, 3, 5, 15, 2, 12, 14, 10, 4, 11, 8, 16]\n"
     ]
    }
   ],
   "source": [
    "F_inv = [0] * (M - 1)\n",
    "for i in range(1,M):\n",
    "    F_inv[i-1] = toInt(F(i)**(M-2))\n",
    "              \n",
    "print('The multiplicative inverses of F(M) are: ', F_inv)"
   ]
  },
  {
   "cell_type": "markdown",
   "metadata": {},
   "source": [
    "---------------------------------------------------------------------------------------------------------------------------------"
   ]
  },
  {
   "cell_type": "markdown",
   "metadata": {},
   "source": [
    "# 2 Arithmetization"
   ]
  },
  {
   "cell_type": "markdown",
   "metadata": {},
   "source": [
    "### 2.1 Evaluating Trace as a Polynomial"
   ]
  },
  {
   "cell_type": "markdown",
   "metadata": {},
   "source": [
    "**Find a generator of the subgroup $G$ (of the multiplicative group $\\mathbb{F}_{/\\{0\\}}$) of size $N$**  \n",
    "The idea of this code is to find by brute force the smallest integer $g$ in $\\mathbb{F}_{/\\{0\\}}$ s.t. $\\{g^0,g^1,g^2,...\\}$ define a subgroup of size $N$. "
   ]
  },
  {
   "cell_type": "code",
   "execution_count": 52,
   "metadata": {},
   "outputs": [
    {
     "name": "stdout",
     "output_type": "stream",
     "text": [
      "The generator g of the subgroup is --> 4\n",
      "The subgroup G is --> [ 1  4 13 16]\n"
     ]
    }
   ],
   "source": [
    "## Find generator g\n",
    "G = [0] * M\n",
    "g = 0\n",
    "for i in range(1,M+1):\n",
    "    G[0] = i\n",
    "    for k in range(2,M+1):\n",
    "        G[k-1] = G[k-2]*G[0] % M\n",
    "    if len(np.unique(G)) == N:\n",
    "        g = i\n",
    "        break       \n",
    "assert g!=0, \"No generator g found\"\n",
    "print('The generator g of the subgroup is -->', g)\n",
    "\n",
    "## Define subgroup G\n",
    "G[0] = 1\n",
    "G[1] = g\n",
    "for i in range(2,M):\n",
    "    G[i-1] = G[i-2]*g % M\n",
    "G = np.unique(G) \n",
    "print('The subgroup G is -->', G)"
   ]
  },
  {
   "cell_type": "markdown",
   "metadata": {},
   "source": [
    "**Interpolate Polynomial f**  \n",
    "The prover calculates the **lowest degree polynomial** which has the property $f(g^i) = A_i$ , $\\quad$  $\\forall i=0,..,N-1$  \n",
    "The code interpolates the points in $G$."
   ]
  },
  {
   "cell_type": "code",
   "execution_count": 53,
   "metadata": {
    "tags": []
   },
   "outputs": [
    {
     "name": "stdout",
     "output_type": "stream",
     "text": [
      " \n",
      "The polynomial f associated to the trace  [1, 0, 1, 1]  is:  Poly(-x**3 - 4*x**2 + x + 5, x, modulus=17)\n"
     ]
    }
   ],
   "source": [
    "#Lagrange Interpolation\n",
    "l1 = [0] * N\n",
    "f = poly(0,x,domain=F)\n",
    "for i in range(0,N):\n",
    "    l1[i] = 1\n",
    "    for j in range(0,N):\n",
    "        if j != i:\n",
    "            l1[i] = l1[i] * (x - G[j]) * F_inv[(G[i] - G[j] - 1) % M]\n",
    "    f = f + A[i] * l1[i]  \n",
    "f = poly(f, domain = F)\n",
    "print(' ')\n",
    "print('The polynomial f associated to the trace ', A, ' is: ', f)"
   ]
  },
  {
   "cell_type": "markdown",
   "metadata": {},
   "source": [
    "### 2.2 Evaluate the Polynomial on a Larger Domain"
   ]
  },
  {
   "cell_type": "markdown",
   "metadata": {},
   "source": [
    "We now want to evaluate the polynomial on a larger domain $L$, where $L = F_{/\\{0\\}}$.  "
   ]
  },
  {
   "cell_type": "code",
   "execution_count": 54,
   "metadata": {},
   "outputs": [
    {
     "data": {
      "image/png": "[encoded data removed]",
      "text/plain": [
       "<Figure size 1152x360 with 2 Axes>"
      ]
     },
     "metadata": {
      "needs_background": "light"
     },
     "output_type": "display_data"
    }
   ],
   "source": [
    "#Define domain L where polynomial is evaluated\n",
    "L = np.array(range(1,M))\n",
    "\n",
    "#Calculate f(x) for x in L\n",
    "f_yy = [0] * len(L)\n",
    "for i in range(0,len(L)):\n",
    "    f_yy[i] = toInt(f(i+1))\n",
    "\n",
    "#Calculate f(x) only for x in G to color dots red\n",
    "f_G = [0] * N\n",
    "for i in range(0,N):\n",
    "    f_G[i] = toInt(f(G[i])) \n",
    "    \n",
    "#Calculate f(x) in Euclidean space\n",
    "coeffs = f.all_coeffs()[::-1]\n",
    "yy = np.array([np.sum(np.array([coeffs[i]*(j**i) for i in range(len(coeffs))])) for j in L])\n",
    "yy1 = np.array([np.sum(np.array([coeffs[i]*(j**i) for i in range(len(coeffs))])) for j in G]) #caluclate f(x) only for G\n",
    "\n",
    "#Plot Graph\n",
    "fig, (ax1, ax2) = plt.subplots(1, 2)\n",
    "fig.set_size_inches(16, 5)\n",
    "ax1.scatter(L, f_yy, zorder = 1, label = r'$f(x)$')\n",
    "ax1.scatter(G,f_G, color = 'red', zorder = 2, label = r'$f(x), x \\in G$')\n",
    "ax1.plot(L,[0]*L, color = 'green', zorder = 1)\n",
    "ax1.plot(L,[0]*L + 1, color = 'green', zorder = 1)\n",
    "ax1.set_ylim([-0.5, M-0.5])\n",
    "ax1.legend(loc='best', shadow=True, fontsize='x-large')\n",
    "ax2.plot(L, yy, zorder = 1, label = r'$f(x)$')\n",
    "ax2.scatter(G,yy1, color = 'red', zorder = 2, label = r'$f(x), x \\in G$')\n",
    "ax2.legend(loc='best', shadow=True, fontsize='x-large')\n",
    "plt.show()"
   ]
  },
  {
   "cell_type": "markdown",
   "metadata": {},
   "source": [
    "### 2.3 Apply Constraints to Polynomial"
   ]
  },
  {
   "cell_type": "markdown",
   "metadata": {},
   "source": [
    "We now combine the constraint defined above with the polynomial $f$ to get $c(x) = f(x)^2 -f(x)$"
   ]
  },
  {
   "cell_type": "code",
   "execution_count": 55,
   "metadata": {},
   "outputs": [
    {
     "name": "stdout",
     "output_type": "stream",
     "text": [
      "We have c(x) =  Poly(x**6 + 8*x**5 - 3*x**4 - x**2 - 8*x + 3, x, modulus=17)\n"
     ]
    }
   ],
   "source": [
    "#Get constraint polynomial\n",
    "c = sympy.compose(constraint,f)\n",
    "c = poly(c,x,domain = F)\n",
    "print('We have c(x) = ', c)"
   ]
  },
  {
   "cell_type": "markdown",
   "metadata": {},
   "source": [
    "Plot the constraint polynomial $c(x)$:"
   ]
  },
  {
   "cell_type": "code",
   "execution_count": 56,
   "metadata": {},
   "outputs": [
    {
     "data": {
      "image/png": "[encoded data removed]",
      "text/plain": [
       "<Figure size 432x288 with 1 Axes>"
      ]
     },
     "metadata": {
      "needs_background": "light"
     },
     "output_type": "display_data"
    }
   ],
   "source": [
    "#Calculate c(x) for x in L\n",
    "c_yy = [0] * len(L)\n",
    "for i in range(0,len(L)):\n",
    "    c_yy[i] = toInt(c(i+1))\n",
    "\n",
    "##Calculate c(x) only for x in G\n",
    "c_G = [0] * N\n",
    "for i in range(0,N):\n",
    "    c_G[i] = toInt(c(G[i]))\n",
    "\n",
    "##Plot graph\n",
    "plt.scatter(L, c_yy, zorder = 1, label = r'$c(x)$')\n",
    "plt.scatter(G,c_G, color = 'red', zorder = 2, label = r'$c(x), x \\in G$')\n",
    "plt.ylim([-0.5, M-0.5])\n",
    "plt.legend(loc=9, shadow=True, fontsize='x-large')\n",
    "plt.show()"
   ]
  },
  {
   "cell_type": "markdown",
   "metadata": {},
   "source": [
    "### 2.4 Create the Composition Polynomial"
   ]
  },
  {
   "cell_type": "markdown",
   "metadata": {},
   "source": [
    "We now define the Composition Polynomial, i.e.  $p(x) = \\dfrac{c(x)}{x^N-1}$"
   ]
  },
  {
   "cell_type": "code",
   "execution_count": 57,
   "metadata": {},
   "outputs": [
    {
     "name": "stdout",
     "output_type": "stream",
     "text": [
      "Composition polynomial:  Poly(x**2 + 8*x - 3, x, modulus=17)  , The remainder is:  Poly(0, x, modulus=17)\n",
      " \n"
     ]
    }
   ],
   "source": [
    "#First calcualte the denominator\n",
    "u = poly(x**N - 1, domain = F)   \n",
    "\n",
    "#Calculate the composition polynomial\n",
    "pRaw = sympy.div(c, u, domain = F)\n",
    "p = pRaw[0]; pRemainder = pRaw[1]\n",
    "print('Composition polynomial: ', p, ' , The remainder is: ', pRemainder); print(' ')"
   ]
  },
  {
   "cell_type": "markdown",
   "metadata": {},
   "source": [
    "Plot the composition polynomial $p(x)$:"
   ]
  },
  {
   "cell_type": "code",
   "execution_count": 58,
   "metadata": {},
   "outputs": [
    {
     "data": {
      "image/png": "[encoded data removed]",
      "text/plain": [
       "<Figure size 432x288 with 1 Axes>"
      ]
     },
     "metadata": {
      "needs_background": "light"
     },
     "output_type": "display_data"
    }
   ],
   "source": [
    "#Calculate p(x) for x in L\n",
    "p_yy = [0] * len(L)\n",
    "for i in range(0,len(L)):\n",
    "    p_yy[i] = toInt(p(i+1))\n",
    "\n",
    "##Calculate p(x) only for x in G\n",
    "p_G = [0] * N\n",
    "for i in range(0,N):\n",
    "    p_G[i] = toInt(p(G[i]))\n",
    "\n",
    "##Plot graph\n",
    "plt.scatter(L, p_yy, zorder = 1, label = r'$p(x)$')\n",
    "plt.scatter(G,p_G, color = 'red', zorder = 2, label = r'$p(x), x \\in G$')\n",
    "plt.ylim([-0.5, M-0.5])\n",
    "plt.legend(loc='lower left', bbox_to_anchor=(0, 0.05), shadow=True, fontsize='x-large')\n",
    "plt.show()"
   ]
  },
  {
   "cell_type": "markdown",
   "metadata": {},
   "source": [
    "### 2.5 Commitments"
   ]
  },
  {
   "cell_type": "markdown",
   "metadata": {},
   "source": [
    "The prover now commits to $f(x)$ and $p(x)$ in Merkle trees. We use the Merkle tree script from Starkware."
   ]
  },
  {
   "cell_type": "code",
   "execution_count": 59,
   "metadata": {},
   "outputs": [
    {
     "name": "stdout",
     "output_type": "stream",
     "text": [
      "Prover sends Merkle root of MT_f to verifier: \n",
      "3ffb41e31ea9f86466a4871ac55d4ee78dde430fbed741b8cceb3f43321cf96e\n",
      "The leaves of MT_f are:  [1, 0, 13, 0, 6, 8, 0, 10, 15, 9, 3, 8, 1, 10, 12, 1]\n",
      " \n",
      "Prover sends Merkle root of MT_p to verifier: \n",
      "2e9b0882df3c19559754ea9cae76babc40fbc7950f79326046ac8479f066717e\n",
      "The leaves of MT_p are:  [6, 0, 13, 11, 11, 13, 0, 6, 14, 7, 2, 16, 15, 16, 2, 7]\n"
     ]
    }
   ],
   "source": [
    "#Build Merkle tree\n",
    "MT_f = MerkleTree(f_yy)\n",
    "MT_p = MerkleTree(p_yy)    \n",
    "\n",
    "#Get Merkle roots\n",
    "root_f = MT_f.root\n",
    "root_p = MT_p.root\n",
    "\n",
    "print('Prover sends Merkle root of MT_f to verifier: ')\n",
    "print(root_f)\n",
    "print('The leaves of MT_f are: ', MT_f.data); print(' ')\n",
    "print('Prover sends Merkle root of MT_p to verifier: ')\n",
    "print(root_p)\n",
    "print('The leaves of MT_p are: ', MT_p.data)"
   ]
  },
  {
   "cell_type": "markdown",
   "metadata": {},
   "source": [
    "### 2.6. Querying"
   ]
  },
  {
   "cell_type": "markdown",
   "metadata": {},
   "source": [
    "Motivation of why we want to query the equation $p(x)u(x) = c(x)$."
   ]
  },
  {
   "cell_type": "code",
   "execution_count": 60,
   "metadata": {},
   "outputs": [
    {
     "data": {
      "image/png": "[encoded data removed]",
      "text/plain": [
       "<Figure size 1152x360 with 2 Axes>"
      ]
     },
     "metadata": {
      "needs_background": "light"
     },
     "output_type": "display_data"
    }
   ],
   "source": [
    "#Define p_false\n",
    "p_false = poly(15*x**2+6*x+13, domain = F)\n",
    "c_false = p_false*u\n",
    "\n",
    "#Calculate y values\n",
    "p_false_yy = [0] * len(L)\n",
    "c_false_yy = [0] * len(L)\n",
    "for i in range(0,len(L)):\n",
    "    p_false_yy[i] = toInt(p_false(i+1))\n",
    "    c_false_yy[i] = toInt(c_false(i+1))\n",
    "\n",
    "#Plot Graph\n",
    "fig, (ax1, ax2) = plt.subplots(1, 2)\n",
    "fig.set_size_inches(16, 5)\n",
    "ax1.scatter(L, p_yy, marker = 8, color = 'red', zorder = 2, label = '$p(x)$')\n",
    "ax1.scatter(L, p_false_yy, marker = 9 ,color = 'blue', zorder = 2, label = '$p_{false}(x)$')\n",
    "ax1.plot(L,[0]*L, color = 'green', zorder = 1)\n",
    "ax1.plot(L,[0]*L + 1, color = 'green', zorder = 1)\n",
    "ax1.set_ylim([-0.5, M-0.5])\n",
    "ax1.legend(loc='center left', shadow=True, fontsize='x-large')\n",
    "ax2.scatter(L, c_yy, marker = 8, color = 'red', zorder = 2, label = '$c(x)$')\n",
    "ax2.scatter(L, c_false_yy, marker = 9 ,color = 'blue', zorder = 2, label = '$c_{false}(x)$')\n",
    "ax2.plot(L,[0]*L, color = 'green', zorder = 1)\n",
    "ax2.plot(L,[0]*L + 1, color = 'green', zorder = 1)\n",
    "ax2.set_ylim([-0.5, M-0.5])\n",
    "ax2.legend(loc='best', shadow=True, fontsize='x-large')\n",
    "plt.show()\n"
   ]
  },
  {
   "cell_type": "markdown",
   "metadata": {},
   "source": [
    "**Querying Protocol**  \n",
    "The verifier queries the prover for values $\\{z\\in L | z\\notin G \\}$.  \n",
    "The prover returns $f(z)$, $p(z)$ and the Merkle paths corresponding to $z$.  \n",
    "The verifier checks whether (i) the received values fit the commitment and (ii) the equation  \n",
    "$p(z) = \\dfrac{f(z)^2-f(z)}{z^N-1}$  \n",
    "holds."
   ]
  },
  {
   "cell_type": "code",
   "execution_count": 61,
   "metadata": {},
   "outputs": [
    {
     "name": "stdout",
     "output_type": "stream",
     "text": [
      "The selected random numbers are:  [3]\n",
      " \n",
      "-----------------\n",
      "Query  1 : \n",
      "Verifier queries: z= 3\n",
      " \n",
      "Prover sends: f(3) = 13 and p(3) = 13,\n",
      "the correpsonding Merkle Paths for f(z):\n",
      "['f80db67243d8d42460288db28cfa0e22b54935c6a7bdf377ff53194437238644', 'da7246388ff10833dcec4fb82f9d70772a7acf688ea9899be279c43ec0be17c6', 'dbdbf4fb684471f421fb255100e433c77fd1aac71c7a3739e9897168aec67ec1', '5feceb66ffc86f38d952786c6d696c79c2dbc239dd4e91b46729d73a27fb57e9']\n",
      "and for p(z):\n",
      "['b2112f1d77950726943365ed742a696582a8c689f5693369c65c785940d54cf2', '51847fcdbd6726ff748a6c7845717b431b9e1b2e9e4a0e8475dee27aebf60c86', 'ce59e1db179747f39b86e895ef8f9a2d647746569b19164677cf1babddaf4c39', '4fc82b26aecb47d2868c4efbe3581732a3e7cbcc6c2efb32062c08170a05eeb8']\n",
      " \n",
      "(i): Verifier now checks equation: p(z)(z^N-1) = f(z)^2-f(z)\n",
      "LHS yields:  3 ; RHS yields:  3\n",
      "Equation correct, proof continues\n",
      " \n",
      "(ii): Verifier now checks whether received p(z) and f(z) correspond to Merkle root received upfront\n",
      "f(z) corresponds to commitment, proof can continue\n",
      "p(z) corresponds to commitment, proof can continue\n"
     ]
    }
   ],
   "source": [
    "#Choose number of queries q\n",
    "q = 1\n",
    "\n",
    "#Get random numbers, set seed to 70 for replicabiltiy\n",
    "assert q <= len(L)-N, \"You query more often than possible, reduce q\"\n",
    "np.random.seed(70) \n",
    "z = list(np.random.choice(np.delete(L,G-1,0), q, replace=False)) #Exclude G values from possible queries\n",
    "\n",
    "print('The selected random numbers are: ', z); print(' ')\n",
    "\n",
    "#Querying rounds\n",
    "for i in range(0,len(z)):\n",
    "    print('-----------------')\n",
    "    print('Query ', i+1,': ')\n",
    "    print('Verifier queries: z=',z[i]); print(' ')\n",
    "    \n",
    "    #Prover sends information\n",
    "    print(f'Prover sends: f({z[i]}) = {toInt(f(z[i]))} and p({z[i]}) = {toInt(p(z[i]))},')\n",
    "    print('the correpsonding Merkle Paths for f(z):')\n",
    "    leafID = np.where(L==z[i])[0][0] \n",
    "    path_f = MT_f.get_authentication_path(leafID)\n",
    "    print(path_f)\n",
    "    print('and for p(z):')\n",
    "    path_p = MT_p.get_authentication_path(leafID)\n",
    "    print(path_p)\n",
    "    print(' ')\n",
    "    \n",
    "    #Calculate equation \n",
    "    print('(i): Verifier now checks equation: p(z)(z^N-1) = f(z)^2-f(z)')\n",
    "    LHS = toInt(toInt(p(z[i]))*(toInt(z[i])**N-1))\n",
    "    RHS = toInt(((toInt(f(z[i]))*toInt(f(z[i])))- toInt(f(z[i]))))\n",
    "    print('LHS yields: ', LHS, '; RHS yields: ', RHS)\n",
    "    if LHS==RHS:\n",
    "        print(f'Equation correct, proof continues')\n",
    "    else:\n",
    "        print(f'PROOF FAILS: Equation not correct.'); break\n",
    "    print(' ')\n",
    "    \n",
    "    #Check if Merkle root fits the one received before\n",
    "    print('(ii): Verifier now checks whether received p(z) and f(z) correspond to Merkle root received upfront')\n",
    "    if verify_decommitment(leafID, toInt(f(z[i])), path_f, root_f): #check for f\n",
    "        print('f(z) corresponds to commitment, proof can continue')\n",
    "    else:\n",
    "        print('PROOF FAILS: f(z) DOES NOT corresponds to commitment!'); break\n",
    "    if verify_decommitment(leafID, toInt(p(z[i])), path_p, root_p): #check for p\n",
    "        print('p(z) corresponds to commitment, proof can continue')\n",
    "    else:\n",
    "        print('PROOF FAILS: p(z) DOES NOT corresponds to commitment!'); break"
   ]
  },
  {
   "cell_type": "markdown",
   "metadata": {},
   "source": [
    "---------------------------------------------------------------------------------------------------------------------------------"
   ]
  },
  {
   "cell_type": "markdown",
   "metadata": {},
   "source": [
    "# 3 Low-Degree Testing"
   ]
  },
  {
   "cell_type": "markdown",
   "metadata": {},
   "source": [
    "The objective of the low-degree testing is that the verifier can learn whether the composition polynomial is of low degree by just a few querying steps."
   ]
  },
  {
   "cell_type": "markdown",
   "metadata": {},
   "source": [
    "### 3.1 Motivation"
   ]
  },
  {
   "cell_type": "markdown",
   "metadata": {},
   "source": [
    "Here we calcluate another polynomial $f^{H}$ of high degree that fits $f$ in all points $x \\in L$ except for one $x$ where $x\\in G$. (Specifically we set $f^H(16)=4$)  \n",
    "This shows that it is possible with a high degree polynomial to be sufficiently close to a low degree polynomial such that the tests that we did so far are not sufficient to trust the prover. "
   ]
  },
  {
   "cell_type": "code",
   "execution_count": 62,
   "metadata": {},
   "outputs": [
    {
     "data": {
      "image/png": "[encoded data removed]",
      "text/plain": [
       "<Figure size 1152x360 with 2 Axes>"
      ]
     },
     "metadata": {
      "needs_background": "light"
     },
     "output_type": "display_data"
    }
   ],
   "source": [
    "#Define polys\n",
    "f_H = poly(x**15 + 4*x**14 + 6*x**13 +  11*x**12 + 6*x**11 + 5*x**10 + 6*x**9 + 13*x**8 + 7*x**7 + 7*x**6 + 12*x**5 + 8*x**4 + 2*x**3 + 2*x**2 + 9*x + 3, x, modulus=17)\n",
    "p_H  = poly(13*x**15 + 8*x**14 + 11*x**13 + 2*x**12 + 16*x**11 + 9*x**10 + 3*x**9 + 11*x**8 + 6*x**7 + 14*x**6 + 13*x**5 + 4*x**4 + 8*x**3 + 3*x**2 + 2*x + 14, x, modulus=17)\n",
    "\n",
    "#Define vector for u\n",
    "u_vec = [0]*L\n",
    "for i in range(len(L)):\n",
    "    u_vec[i] = ((i+1)**4-1)%M\n",
    "u_vec[i] = np.array(u_vec[i])\n",
    "\n",
    "#Calculate y points of polys\n",
    "f_H_yy = [0] * len(L)\n",
    "p_H_yy = [0] * len(L)\n",
    "for i in range(0,len(L)):\n",
    "    f_H_yy[i] = toInt(f_H(i+1))\n",
    "    p_H_yy[i] = toInt(p_H(i+1))\n",
    "\n",
    "#Calculate c1 and c2\n",
    "c1_H_yy = [0]*len(L)\n",
    "c2_H_yy = [0]*len(L)\n",
    "for k in range(len(L)):\n",
    "    c1_H_yy[k] = (p_H_yy[k]*u_vec[k])%M         \n",
    "    c2_H_yy[k] = ((f_H_yy[k])**2-f_H_yy[k])%M  \n",
    "\n",
    "##Calculate f(x) only for x in G\n",
    "f_H_G = [0] * N\n",
    "for i in range(0,N):\n",
    "    f_H_G[i] = toInt(f_H(G[i]))\n",
    "\n",
    "#Plot Graph\n",
    "fig, (ax1,ax2) = plt.subplots(1,2)\n",
    "fig.set_size_inches(16, 5)\n",
    "ax1.scatter(L, f_H_yy, color = 'blue', zorder = 1, label = '$f^H(x)$')\n",
    "ax1.scatter(G, f_H_G, color = 'red', zorder = 2)\n",
    "ax1.plot(L,[0]*L, color = 'green', zorder = 1)\n",
    "ax1.plot(L,[0]*L + 1, color = 'green', zorder = 1)\n",
    "ax1.set_ylim([-0.5, M-0.5])\n",
    "ax1.legend(loc='best', shadow=True, fontsize='x-large')\n",
    "ax2.scatter(L, c1_H_yy, marker = 8, color = 'red', zorder = 2, label = '$c_1^H(x)$')\n",
    "ax2.scatter(L, c2_H_yy, marker = 9 ,color = 'blue', zorder = 2, label = '$c_2^H(x)$')\n",
    "ax2.plot(L,[0]*L, color = 'green', zorder = 1)\n",
    "ax2.plot(L,[0]*L + 1, color = 'green', zorder = 1)\n",
    "ax2.set_ylim([-0.5, M-0.5])\n",
    "ax2.legend(loc='best', shadow=True, fontsize='x-large')\n",
    "plt.show()"
   ]
  },
  {
   "cell_type": "markdown",
   "metadata": {},
   "source": [
    "### 3.2 Setup"
   ]
  },
  {
   "cell_type": "markdown",
   "metadata": {},
   "source": [
    "We now define $\\bar{d}$, i.e. the highest possible degree for the composition polynomial.  \n",
    "In our example this is defined by: $\\bar{d} = 2(N-1)-N = N-2$."
   ]
  },
  {
   "cell_type": "code",
   "execution_count": 63,
   "metadata": {},
   "outputs": [
    {
     "name": "stdout",
     "output_type": "stream",
     "text": [
      "The highest possible degree of the composition polynomial is: 2\n"
     ]
    }
   ],
   "source": [
    "d_bar = N - 2\n",
    "print('The highest possible degree of the composition polynomial is:',d_bar)"
   ]
  },
  {
   "cell_type": "markdown",
   "metadata": {},
   "source": [
    "### 3.3 Commitment Round"
   ]
  },
  {
   "cell_type": "markdown",
   "metadata": {},
   "source": [
    "In the commitment round, the prover executes the FRI protocol.  \n",
    "We know that after applying the FRI operator exactly $\\lambda = \\log_2(\\bar{d})+1$ times, the polynomial is reduced to a constant.  \n",
    "In each round, the verifier sends a random $\\alpha\\in F$ which the prover needs.  \n",
    "The prover commits in each round to the current state and at the end sends the remaining constant to the verifier."
   ]
  },
  {
   "cell_type": "code",
   "execution_count": 64,
   "metadata": {},
   "outputs": [
    {
     "name": "stdout",
     "output_type": "stream",
     "text": [
      "The FRI protocol will take 2 iterations.\n"
     ]
    }
   ],
   "source": [
    "#Calculate number of iterations in the FRI protocol\n",
    "Lambda = int(np.log2(d_bar) + 1)\n",
    "print('The FRI protocol will take', Lambda, 'iterations.')"
   ]
  },
  {
   "cell_type": "markdown",
   "metadata": {},
   "source": [
    "First we predefine some variables and define a function that returns the domain depending on the size of $L$ and which iteration we are in."
   ]
  },
  {
   "cell_type": "code",
   "execution_count": 65,
   "metadata": {},
   "outputs": [
    {
     "name": "stdout",
     "output_type": "stream",
     "text": [
      "Alphas sent to the prover are:  [10, 15]\n"
     ]
    }
   ],
   "source": [
    "#Set a vector to store p_k, ie the polynomials\n",
    "P = [0]*(Lambda+1) \n",
    "P[0] = p\n",
    "\n",
    "#Set alpha, for replicability set seed to 260  \n",
    "np.random.seed(260)\n",
    "alpha = list(np.random.randint(low = 0,high=M,size=Lambda)) #do it random\n",
    "assert len(alpha) == Lambda, \"Not enough elements for alpha\"\n",
    "print('Alphas sent to the prover are: ',alpha)\n",
    "\n",
    "#Set up vectors to store Merkle tree commitments\n",
    "merkleTrees = [0]*(Lambda-1)\n",
    "merkleRoots = [0]*(Lambda-1)\n",
    "\n",
    "#Define function to get domain\n",
    "def getDomain(L,k):\n",
    "    assert (len(L) & (len(L) - 1)) == 0, \"Size of L is not a power of 2\" #assert size of L is a power of 2\n",
    "    for _ in range(k+1):\n",
    "        L = np.unique(L**2%M)\n",
    "    return L"
   ]
  },
  {
   "cell_type": "markdown",
   "metadata": {},
   "source": [
    "And then the prover performs the FRI protocol."
   ]
  },
  {
   "cell_type": "code",
   "execution_count": 66,
   "metadata": {},
   "outputs": [
    {
     "name": "stdout",
     "output_type": "stream",
     "text": [
      "------------\n",
      "Round  1  of  2\n",
      "The new polynomial is: Poly(x - 8, x, modulus=17)\n",
      "The polynomial is evaluated in: [ 1  2  4  8  9 13 15 16]\n",
      "The leaves of the Merkle tree are:  [10, 11, 13, 0, 1, 5, 7, 8]\n",
      "------------\n",
      "Round  2  of  2\n",
      "A constant remains:  7\n",
      " \n",
      "The prover now sends the constant: 7\n",
      "and the Merkle roots to the verifier:\n",
      "['f96d0041ca65368249c38a7a279287aefe13f3bc514eb9f4be7ffc59c4a893c7']\n"
     ]
    }
   ],
   "source": [
    "#Apply the FRI operator Lambda times\n",
    "for k in range(0,Lambda):\n",
    "    #Prover splits p_k into even and odd parts\n",
    "    g = sympy.Poly.from_list(P[k].all_coeffs()[::-1][::2][::-1], x, domain = F)       # Prover separates into even part\n",
    "    h = sympy.Poly.from_list(P[k].all_coeffs()[::-1][1::2][::-1], x, domain = F)      # Prover separates into odd part\n",
    "\n",
    "    #Calculate next p_k polynomial\n",
    "    P[k+1] = g + poly(alpha[k],x,domain=F) * h\n",
    "    \n",
    "    if k == Lambda-1:\n",
    "        constant = int(P[k+1](0))\n",
    "        print('------------')\n",
    "        print('Round ', k+1, ' of ', Lambda)\n",
    "        print('A constant remains: ',toInt(constant))\n",
    "    else:\n",
    "        #####Commit this polynomial over L^2, L^4 etc...\n",
    "        #First get domain\n",
    "        Lcur = getDomain(L,k)\n",
    "        \n",
    "        #Calculate p_k(x) values in this domain for leaves of the Merkle tree\n",
    "        leaves = [0] * len(Lcur)\n",
    "        for i in range(0,len(Lcur)):\n",
    "            leaves[i] = toInt(P[k+1](Lcur[i]))\n",
    "        merkleTrees[k] = MerkleTree(leaves)\n",
    "        merkleRoots[k] = merkleTrees[k].root\n",
    "        print('------------')\n",
    "        print('Round ', k+1, ' of ', Lambda)\n",
    "        print('The new polynomial is:', P[k+1])\n",
    "        print('The polynomial is evaluated in:' , Lcur)\n",
    "        print('The leaves of the Merkle tree are: ', leaves)\n",
    "            \n",
    "#Send constant\n",
    "print(' ')\n",
    "print('The prover now sends the constant:', toInt(constant))\n",
    "print('and the Merkle roots to the verifier:')\n",
    "print(merkleRoots)"
   ]
  },
  {
   "cell_type": "markdown",
   "metadata": {},
   "source": [
    "### 3.4 Querying Round"
   ]
  },
  {
   "cell_type": "markdown",
   "metadata": {},
   "source": [
    "The verifier ''replicates'' the FRI protocol and checks whether after $\\lambda$ steps he ends up with the constant received before and whether in each round his calculation fits the commitment.  \n",
    "The verifier queries for $\\{z \\in L|z\\notin G\\}$. We first define which $z$ the verifier chooses."
   ]
  },
  {
   "cell_type": "code",
   "execution_count": 67,
   "metadata": {},
   "outputs": [
    {
     "name": "stdout",
     "output_type": "stream",
     "text": [
      "The verifier queries for z = 12\n"
     ]
    }
   ],
   "source": [
    "#Define the z that the verifier queries for, for replicability set seed to 2\n",
    "np.random.seed(2) \n",
    "z = np.random.choice(np.delete(L,G-1,0), 1, replace=False)[0] #Exclude G values from possible queries\n",
    "print('The verifier queries for z =',z)"
   ]
  },
  {
   "cell_type": "markdown",
   "metadata": {},
   "source": [
    "The verifier now ''repliactes'' the protocol. He iterates exactly $\\lambda$ times. After doing so he should end up with the constant received before. On the way he checks the commitment by querying the prover for the Merkle paths and checking the Merkle roots.  \n",
    "Note that the verifier would query for several $z$. So he would just choose another $z$ and repeats the exact same steps."
   ]
  },
  {
   "cell_type": "code",
   "execution_count": 68,
   "metadata": {},
   "outputs": [
    {
     "name": "stdout",
     "output_type": "stream",
     "text": [
      " \n",
      "Round  1  of  2\n",
      "----------------\n",
      "The prover returns p(12^1)=16 and p(-12^1)=11\n",
      "The verifier finds g(z^2)=5 and h(z^2)=8\n",
      "and then calculates p_1 = g(z^2) + alpha_1 h(z^2) = 5+10*8 = 0\n",
      " \n",
      "Verifier checks whether calculated p_1=0 correspond to commitment in Merkle tree\n",
      "Prover sends authentification path for leaf number 3, where z=8 and p_1(8)=0 this is:\n",
      " \n",
      "['6588d7c2b4ef0eb0fad71bef665465390357fb053f58f24302008a5e723ba4bc', '1f12220da624f190b8e2d897ff9400503d1ada72cc2569499001ebf96485c80a', '3fdba35f04dc8c462986c992bcf875546257113072a909c162f7e470e581e278']\n",
      "and uses this to calculate the Merkle Root\n",
      " \n",
      "p_1=0 corresponds to commitment, proof can continue.\n",
      " \n",
      "Round  2  of  2\n",
      "----------------\n",
      "The prover returns p(12^2)=0 and p(-12^2)=1\n",
      "The verifier finds g(z^4)=9 and h(z^4)=1\n",
      "and then calculates p_2 = g(z^4) + alpha_2 h(z^4) = 9+15*1 = 7\n",
      "Verifier finds constant 7 which equals 7 received from prover\n",
      "PROOF SUCCESSFUL!\n"
     ]
    }
   ],
   "source": [
    "for k in range(0,Lambda):\n",
    "    print(' ')\n",
    "    print('Round ', k+1, ' of ', Lambda)\n",
    "    print('----------------')\n",
    "    \n",
    "    #verifier queries for p(z^2^k) and p(-z^2^k)\n",
    "    pP = toInt(P[k](toInt(F(z)**(2**k))))\n",
    "    pN = toInt(P[k](toInt(F(-1)*F(z)**(2**k))))\n",
    "    print(f'The prover returns p({z}^{2**k})={pP} and p(-{z}^{2**k})={pN}')\n",
    "    \n",
    "    #Verifier solves system of equations to get g(z^2^k) and h(z^2^k)\n",
    "    h_ver = toInt(F((pP-pN)*F_inv[toInt(F(2)*F(z)**(2**k))-1]))\n",
    "    g_ver = toInt(F(pN) + F(z)**(2**k)*F(h_ver))\n",
    "    print(f'The verifier finds g(z^{2**(k+1)})={g_ver} and h(z^{2**(k+1)})={h_ver}')\n",
    "    \n",
    "    #Compute next p_{k+1}(z)\n",
    "    pZ_ver = toInt(F(g_ver) + F(alpha[k])*F(h_ver))\n",
    "    print(f'and then calculates p_{k+1} = g(z^{2**(k+1)}) + alpha_{k+1} h(z^{2**(k+1)})', \n",
    "          f'= {g_ver}+{alpha[k]}*{h_ver} = {pZ_ver}')\n",
    "    \n",
    "    #Check commitment, do not need to check commitment in last round, just compare constants in last round\n",
    "    if k<Lambda-1: \n",
    "        print(' ')\n",
    "        print(f'Verifier checks whether calculated p_{k+1}={pZ_ver} correspond to commitment in Merkle tree')\n",
    "        leafID = np.where(getDomain(L,k)==toInt(F(z)**(2**(k+1))))[0][0] \n",
    "        path = merkleTrees[k].get_authentication_path(leafID)\n",
    "        print(f'Prover sends authentification path for leaf number {leafID}, where z={toInt(F(z)**(2**(k+1)))}',\n",
    "              f'and p_{k+1}({toInt(F(z)**(2**(k+1)))})={toInt(P[k+1](toInt(F(z)**(2**(k+1)))))} this is:')\n",
    "        print(' '); print(path)\n",
    "        print('and uses this to calculate the Merkle Root'); print(' ')\n",
    "        \n",
    "        if verify_decommitment(leafID, pZ_ver, path, merkleRoots[k]): \n",
    "            print(f'p_{k+1}={pZ_ver} corresponds to commitment, proof can continue.')\n",
    "        else:\n",
    "            print(f'PROOF FAILS, p_{k+1}={toInt(pZ_ver)} DOES NOT correspond to commitment!')\n",
    "    else:\n",
    "        print(f'Verifier finds constant {toInt(pZ_ver)} which equals {toInt(constant)} received from prover')\n",
    "        print('PROOF SUCCESSFUL!')"
   ]
  },
  {
   "cell_type": "markdown",
   "metadata": {},
   "source": [
    "-------------------------------------------------------------------------------------------------------------------------"
   ]
  },
  {
   "cell_type": "markdown",
   "metadata": {},
   "source": [
    "## 4 Attack With False Trace"
   ]
  },
  {
   "cell_type": "markdown",
   "metadata": {},
   "source": [
    "This part only works for the values in the numerical example, ie $M=17$ and $N=4$."
   ]
  },
  {
   "cell_type": "code",
   "execution_count": 69,
   "metadata": {},
   "outputs": [
    {
     "name": "stdout",
     "output_type": "stream",
     "text": [
      "The polynomial f_false asociated to the trace  [2 0 1 1]  is:  Poly(-5*x**3 - 8*x**2 - 3*x + 1, x, modulus=17)\n",
      "c polynomial:  Poly(8*x**6 - 5*x**5 - 8*x**4 - 8*x**3 + x**2 - 3*x, x, modulus=17)\n",
      "Composition polynomial:  Poly(8*x**2 - 5*x - 8, x, modulus=17)  , The remainder is:  Poly(-8*x**3 - 8*x**2 - 8*x - 8, x, modulus=17)\n",
      "c_bar polynomial:  Poly(8*x**6 - 5*x**5 - 8*x**4 - 8*x**2 + 5*x + 8, x, modulus=17)\n"
     ]
    },
    {
     "data": {
      "image/png": "[encoded data removed]",
      "text/plain": [
       "<Figure size 576x360 with 1 Axes>"
      ]
     },
     "metadata": {
      "needs_background": "light"
     },
     "output_type": "display_data"
    }
   ],
   "source": [
    "if M==17 and N==4:\n",
    "    #Define the trace that the poly f_false needs to fit\n",
    "    A_false = np.array([2,0,1,1])\n",
    "\n",
    "    #Interpolate values\n",
    "    l1 = [0] * N\n",
    "    f_false = poly(0,x,domain=F)\n",
    "    for i in range(0,N):\n",
    "        l1[i] = 1\n",
    "        for j in range(0,N):\n",
    "            if j != i:\n",
    "                l1[i] = l1[i] * (x - G[j]) * F_inv[(G[i] - G[j] - 1) % M]\n",
    "        f_false = f_false + A_false[i] * l1[i]  \n",
    "    f_false = poly(f_false, domain = F)\n",
    "    print('The polynomial f_false asociated to the trace ', A_false, ' is: ', f_false)\n",
    "\n",
    "    #Calculate c\n",
    "    c_false = sympy.compose(constraint,f_false)\n",
    "    c_false = poly(c_false,x,domain = F)\n",
    "    print('c polynomial: ', c_false)\n",
    "\n",
    "    #Calculate composition polynomial\n",
    "    pRaw_false = sympy.div(c_false, u, domain = F)\n",
    "    p_false = pRaw_false[0]; pRemainder_false = pRaw_false[1]\n",
    "    print('Composition polynomial: ', p_false, ' , The remainder is: ', pRemainder_false)\n",
    "\n",
    "    #Calculate c_bar(x)\n",
    "    c_bar = p_false*u\n",
    "    print('c_bar polynomial: ', c_bar)\n",
    "\n",
    "    #Calculate c_f(x) and c_bar(x) for x in L\n",
    "    c_bar_yy = [0] * len(L)\n",
    "    c_false_yy = [0] * len(L)\n",
    "    for i in range(0,len(L)):\n",
    "        c_bar_yy[i] = toInt(c_bar(i+1))\n",
    "        c_false_yy[i] = toInt(c_false(i+1))\n",
    "\n",
    "    #Plot Graph\n",
    "    fig, (ax1) = plt.subplots(1, 1)\n",
    "    fig.set_size_inches(8, 5)\n",
    "    ax1.scatter(L, c_false_yy, marker = 8, color = 'red', zorder = 2, label = '$c_f(x)$')\n",
    "    ax1.scatter(L, c_bar_yy, marker = 9 ,color = 'blue', zorder = 2, label = r'$\\bar{c}(x)$')\n",
    "    ax1.plot(L,[0]*L, color = 'green', zorder = 1)\n",
    "    ax1.plot(L,[0]*L + 1, color = 'green', zorder = 1)\n",
    "    ax1.set_ylim([-0.5, M-0.5])\n",
    "    ax1.legend(loc='best', shadow=True, fontsize='x-large')\n",
    "    plt.show()"
   ]
  }
 ],
 "metadata": {
  "kernelspec": {
   "display_name": "Python 3.9.12 ('base')",
   "language": "python",
   "name": "python3"
  },
  "language_info": {
   "codemirror_mode": {
    "name": "ipython",
    "version": 3
   },
   "file_extension": ".py",
   "mimetype": "text/x-python",
   "name": "python",
   "nbconvert_exporter": "python",
   "pygments_lexer": "ipython3",
   "version": "3.9.12"
  },
  "vscode": {
   "interpreter": {
    "hash": "deb4792152b8b9767403eeef0a1b0f34b83d442136ccee9184cd7d1131f09aa0"
   }
  }
 },
 "nbformat": 4,
 "nbformat_minor": 4
}
